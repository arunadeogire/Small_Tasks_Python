{
 "cells": [
  {
   "cell_type": "code",
   "execution_count": null,
   "id": "10a02c25-01cb-4f70-9a4a-5ae95449b02b",
   "metadata": {},
   "outputs": [],
   "source": []
  },
  {
   "cell_type": "markdown",
   "id": "9d02ba79-60fd-4249-8ebb-506d31b91c6a",
   "metadata": {},
   "source": [
    "# Reading Dictinary Key and Values using for loop"
   ]
  },
  {
   "cell_type": "code",
   "execution_count": 8,
   "id": "ffa8bbfe-da14-431a-b8d9-9cec2cefe238",
   "metadata": {
    "tags": []
   },
   "outputs": [
    {
     "name": "stdout",
     "output_type": "stream",
     "text": [
      "Key: 0.51 Value: Ankit\n",
      "Key: 0.505 Value: Gyan\n",
      "Key: 0.44 Value: Lakshay\n",
      "Key: 0.4325 Value: Aravind\n",
      "Key: 0.4 Value: Pranav\n"
     ]
    }
   ],
   "source": [
    "# Create a Dictinary\n",
    "x=[(0.51, 'Ankit'), (0.505, 'Gyan'), (0.44, 'Lakshay'), (0.4325, 'Aravind'), (0.4, 'Pranav')]\n",
    "D = dict(x)\n",
    "\n",
    "# print key and values of the dictinary\n",
    "\n",
    "for key,value in D.items():\n",
    "    \n",
    "    print('Key:',key ,'Value:',value)"
   ]
  },
  {
   "cell_type": "code",
   "execution_count": null,
   "id": "757a28b6-6319-4546-8127-227a4a226aba",
   "metadata": {},
   "outputs": [],
   "source": []
  },
  {
   "cell_type": "code",
   "execution_count": null,
   "id": "7c0a8d3b-b6ea-4a3f-8d94-652c014503b0",
   "metadata": {},
   "outputs": [],
   "source": []
  }
 ],
 "metadata": {
  "kernelspec": {
   "display_name": "Python 3 (ipykernel)",
   "language": "python",
   "name": "python3"
  },
  "language_info": {
   "codemirror_mode": {
    "name": "ipython",
    "version": 3
   },
   "file_extension": ".py",
   "mimetype": "text/x-python",
   "name": "python",
   "nbconvert_exporter": "python",
   "pygments_lexer": "ipython3",
   "version": "3.10.9"
  },
  "widgets": {
   "application/vnd.jupyter.widget-state+json": {
    "state": {},
    "version_major": 2,
    "version_minor": 0
   }
  }
 },
 "nbformat": 4,
 "nbformat_minor": 5
}
